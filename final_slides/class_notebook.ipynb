{
 "cells": [
  {
   "cell_type": "code",
   "execution_count": 1,
   "metadata": {},
   "outputs": [],
   "source": [
    "import torch, torch.nn as nn\n",
    "\n",
    "# SINGLE neuron, 7 incoming connections\n",
    "neuron = torch.nn.Linear(in_features = 7, out_features = 8)\n",
    "\n",
    "class Network(nn.Module):\n",
    "    def __init__(self,):\n",
    "        super().__init__()\n",
    "        in_features = 7\n",
    "        out_features = 8\n",
    "        self.weight_parameters = torch.randn(size = (out_features, in_features), requires_grad= True) # all neurons together\n",
    "        self.bias_parameter    = torch.randn(size = (out_features,)            , requires_grad= True)\n",
    "    \n",
    "    def forward(self, x_batch):\n",
    "        z = torch.matmul(x_batch, self.weight_parameters)\n",
    "        z = z + self.bias_parameter\n",
    "        \n"
   ]
  },
  {
   "cell_type": "code",
   "execution_count": 8,
   "metadata": {},
   "outputs": [
    {
     "data": {
      "text/plain": [
       "Parameter containing:\n",
       "tensor([[ 2.5957e-01,  7.2866e-02,  3.2772e-01, -2.9991e-01,  2.8686e-01,\n",
       "          1.1105e-02, -4.4390e-02],\n",
       "        [-2.8367e-01,  2.4155e-01, -3.4515e-01,  2.4693e-01, -3.5967e-01,\n",
       "          6.9908e-02, -2.6906e-01],\n",
       "        [-2.0418e-01,  1.2581e-01, -2.5552e-01,  9.8738e-03,  3.4573e-01,\n",
       "          3.1749e-01,  1.2078e-01],\n",
       "        [-4.3039e-02,  1.3891e-01,  1.6013e-01, -4.5385e-02, -5.6422e-02,\n",
       "         -3.7819e-02,  1.3828e-01],\n",
       "        [-2.1725e-01,  8.8058e-02,  2.0105e-02,  8.7378e-02, -5.8876e-02,\n",
       "         -2.4308e-01, -2.8017e-01],\n",
       "        [ 8.9973e-02,  1.5918e-01, -8.0831e-02, -2.1938e-01,  6.6926e-02,\n",
       "          2.2261e-01, -1.8245e-01],\n",
       "        [ 1.7153e-01, -2.3749e-03, -2.2057e-04, -1.8194e-01,  3.3715e-01,\n",
       "         -1.4260e-01,  3.3037e-01],\n",
       "        [ 3.6868e-01, -2.5114e-01, -2.3776e-01, -3.3846e-01, -2.7754e-01,\n",
       "         -2.1703e-01, -2.1240e-01]], requires_grad=True)"
      ]
     },
     "execution_count": 8,
     "metadata": {},
     "output_type": "execute_result"
    }
   ],
   "source": [
    "neuron = torch.nn.Linear(in_features = 7, out_features = 8)\n",
    "neuron.weight"
   ]
  },
  {
   "cell_type": "code",
   "execution_count": 10,
   "metadata": {},
   "outputs": [
    {
     "name": "stdout",
     "output_type": "stream",
     "text": [
      "==============================================================================================================================================================================================\n",
      "Layer (type:depth-idx)                   Input Shape               Output Shape              Kernel Shape              Param #                   Trainable                 Param %\n",
      "==============================================================================================================================================================================================\n",
      "Linear                                   [7]                       [8]                       --                        64                        True                      100.00%\n",
      "├─weight                                                                                     [7, 8]                    ├─56\n",
      "├─bias                                                                                       [8]                       └─8\n",
      "==============================================================================================================================================================================================\n",
      "Total params: 64\n",
      "Trainable params: 64\n",
      "Non-trainable params: 0\n",
      "Total mult-adds (M): 0.00\n",
      "==============================================================================================================================================================================================\n",
      "Input size (MB): 0.00\n",
      "Forward/backward pass size (MB): 0.00\n",
      "Params size (MB): 0.00\n",
      "Estimated Total Size (MB): 0.00\n",
      "==============================================================================================================================================================================================\n"
     ]
    },
    {
     "name": "stderr",
     "output_type": "stream",
     "text": [
      "/Users/ajinkya/opt/anaconda3/lib/python3.9/site-packages/torchinfo/torchinfo.py:477: UserWarning: TypedStorage is deprecated. It will be removed in the future and UntypedStorage will be the only storage class. This should only matter to you if you are using storages directly.  To access UntypedStorage directly, use tensor.untyped_storage() instead of tensor.storage()\n",
      "  action_fn=lambda data: sys.getsizeof(data.storage()),\n"
     ]
    }
   ],
   "source": [
    "from torchinfo import summary\n",
    "summary(neuron, input_size=(7,), \n",
    "        verbose=2, col_names = [\"input_size\", \"output_size\",\"kernel_size\", \"num_params\",\"trainable\", \"params_percent\"]);\n"
   ]
  },
  {
   "cell_type": "code",
   "execution_count": null,
   "metadata": {},
   "outputs": [],
   "source": []
  }
 ],
 "metadata": {
  "kernelspec": {
   "display_name": "base",
   "language": "python",
   "name": "python3"
  },
  "language_info": {
   "codemirror_mode": {
    "name": "ipython",
    "version": 3
   },
   "file_extension": ".py",
   "mimetype": "text/x-python",
   "name": "python",
   "nbconvert_exporter": "python",
   "pygments_lexer": "ipython3",
   "version": "3.9.13"
  }
 },
 "nbformat": 4,
 "nbformat_minor": 2
}
